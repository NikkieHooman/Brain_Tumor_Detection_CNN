{
 "cells": [
  {
   "cell_type": "code",
   "execution_count": 1,
   "id": "18f5fbed-f7f1-4538-a8f5-8d4d10b39a37",
   "metadata": {},
   "outputs": [],
   "source": [
    "# Import necessary libraries\n",
    "import numpy as np\n",
    "import pandas as pd\n",
    "import os\n",
    "import random\n",
    "from PIL import Image\n",
    "from resizeimage import resizeimage\n",
    "import warnings\n",
    "warnings.filterwarnings(\"ignore\")"
   ]
  },
  {
   "cell_type": "code",
   "execution_count": 2,
   "id": "d994df5d-c9ef-4f62-81cf-05a26fa9059a",
   "metadata": {},
   "outputs": [
    {
     "name": "stdout",
     "output_type": "stream",
     "text": [
      "Data/Training\n",
      "Total images found: 5575\n",
      "Total labels found: 4\n",
      "Labels:\n",
      "meningioma\n",
      "notumor\n",
      "glioma\n",
      "pituitary\n"
     ]
    }
   ],
   "source": [
    "# Path to the data directory\n",
    "BASE_DIR = r\"Data/Training\"\n",
    "\n",
    "# Function to create a list of file paths for all image files in a directory\n",
    "# and also create a list of corresponding labels for each image\n",
    "def createFileList(myDir, format='.jpg'):\n",
    "    fileList = []\n",
    "    labels = []\n",
    "    \n",
    "    for root, dirs, files in os.walk(myDir, topdown=False):\n",
    "        for name in files:\n",
    "            if name.endswith(format):\n",
    "                fullName = os.path.join(root, name)\n",
    "                fileList.append(fullName)\n",
    "                label = os.path.basename(root)  # The label is the name of the directory\n",
    "                labels.append(label)\n",
    "    \n",
    "    return fileList, labels\n",
    "\n",
    "# Create the file list and label list\n",
    "ImageList, Label = createFileList(BASE_DIR)\n",
    "\n",
    "print(BASE_DIR)\n",
    "print(\"Total images found:\", len(ImageList))\n",
    "print(\"Total labels found:\", len(set(Label)))\n",
    "print('Labels:')\n",
    "for label in set(Label):  # Use set to print unique labels only\n",
    "    print(label) "
   ]
  },
  {
   "cell_type": "markdown",
   "id": "12ff6f3a-8bdc-42fe-a5c5-44c67282a227",
   "metadata": {},
   "source": [
    "We have 5575 images categorized into four classes: pituitary, meningioma, notumor, and glioma.\n"
   ]
  },
  {
   "cell_type": "code",
   "execution_count": 3,
   "id": "004e6b8f-9e3e-4baf-a99c-f41861c191fe",
   "metadata": {},
   "outputs": [
    {
     "name": "stdout",
     "output_type": "stream",
     "text": [
      "512 512\n",
      "512 512\n",
      "512 512\n",
      "512 512\n",
      "225 225\n",
      "512 512\n",
      "512 512\n",
      "512 512\n",
      "512 512\n",
      "Number of images: 700\n",
      "Number of classes: 4\n",
      "Original image sizes: 512 pixels by 512 pixels\n"
     ]
    }
   ],
   "source": [
    "# Ensure the sample size is not larger than the number of available images\n",
    "sample_size = min(700, len(ImageList))  # Adjust sample size if needed\n",
    "myFileList = random.sample(ImageList, sample_size)\n",
    "\n",
    "# Print some original image sizes for verification\n",
    "count = 0\n",
    "for i in myFileList:\n",
    "    img_file = Image.open(i)\n",
    "    width, height = img_file.size\n",
    "    count += 1\n",
    "    if count < 10:\n",
    "        print(width, height)\n",
    "    \n",
    "n_pixels = width * height\n",
    "n_classes = len(set(Label))\n",
    "\n",
    "print(\"Number of images: {}\".format(len(myFileList)))\n",
    "print(\"Number of classes: {}\".format(n_classes))\n",
    "print(\"Original image sizes: {} pixels by {} pixels\".format(height, width))\n"
   ]
  },
  {
   "cell_type": "code",
   "execution_count": 4,
   "id": "c24494cf-93b5-49f8-a228-a08a647f9ba4",
   "metadata": {},
   "outputs": [
    {
     "name": "stdout",
     "output_type": "stream",
     "text": [
      "50 50\n",
      "50 50\n",
      "50 50\n",
      "50 50\n",
      "50 50\n",
      "50 50\n",
      "50 50\n",
      "50 50\n",
      "50 50\n"
     ]
    }
   ],
   "source": [
    "# Create a DataFrame with image data\n",
    "df = pd.DataFrame()\n",
    "count = 0\n",
    "for i in myFileList:\n",
    "    img_file = Image.open(i)\n",
    "    img_file = resizeimage.resize_contain(img_file, [50, 50])  # Resize all images to 50x50\n",
    "    width, height = img_file.size       \n",
    "    img_gray = img_file.convert('L')\n",
    "    value1 = np.asarray(img_gray.getdata(), dtype=int).reshape((img_gray.size[1], img_gray.size[0]))\n",
    "    count += 1\n",
    "    if count < 10:\n",
    "        print(img_gray.size[1], img_gray.size[0])  \n",
    "    df[i] = value1.flatten()"
   ]
  },
  {
   "cell_type": "code",
   "execution_count": 5,
   "id": "5cca4206-8c0a-4401-9694-c4cadabaefa7",
   "metadata": {},
   "outputs": [
    {
     "name": "stdout",
     "output_type": "stream",
     "text": [
      "                                        0  1  2  3  4  5  6  7  8  9  ...  \\\n",
      "Data/Training/glioma/Tr-gl_1108.jpg     1  1  1  1  1  1  1  1  2  1  ...   \n",
      "Data/Training/pituitary/Tr-pi_0213.jpg  1  1  2  2  2  3  3  4  4  4  ...   \n",
      "Data/Training/pituitary/Tr-pi_1023.jpg  0  0  0  0  0  0  0  0  0  0  ...   \n",
      "Data/Training/pituitary/Tr-pi_0661.jpg  0  0  0  0  0  0  0  0  0  0  ...   \n",
      "Data/Training/notumor/Tr-no_0914.jpg    0  0  0  0  0  1  2  2  2  2  ...   \n",
      "\n",
      "                                        2491  2492  2493  2494  2495  2496  \\\n",
      "Data/Training/glioma/Tr-gl_1108.jpg        0     1     1     0     0     0   \n",
      "Data/Training/pituitary/Tr-pi_0213.jpg    17    17     8     4     3     3   \n",
      "Data/Training/pituitary/Tr-pi_1023.jpg     0     0     0     0     0     0   \n",
      "Data/Training/pituitary/Tr-pi_0661.jpg     0     0     0     0     0     0   \n",
      "Data/Training/notumor/Tr-no_0914.jpg       0     0     1     2     1     0   \n",
      "\n",
      "                                        2497  2498  2499      Label  \n",
      "Data/Training/glioma/Tr-gl_1108.jpg        0     0     0     glioma  \n",
      "Data/Training/pituitary/Tr-pi_0213.jpg     4     4     4  pituitary  \n",
      "Data/Training/pituitary/Tr-pi_1023.jpg     0     0     0  pituitary  \n",
      "Data/Training/pituitary/Tr-pi_0661.jpg     0     0     0  pituitary  \n",
      "Data/Training/notumor/Tr-no_0914.jpg       0     0     0    notumor  \n",
      "\n",
      "[5 rows x 2501 columns]\n",
      "Index([      0,       1,       2,       3,       4,       5,       6,       7,\n",
      "             8,       9,\n",
      "       ...\n",
      "          2491,    2492,    2493,    2494,    2495,    2496,    2497,    2498,\n",
      "          2499, 'Label'],\n",
      "      dtype='object', length=2501)\n"
     ]
    }
   ],
   "source": [
    "# Transpose the DataFrame and add labels\n",
    "df = df.T\n",
    "df['Label'] = [os.path.basename(os.path.dirname(i)) for i in df.index]\n",
    "\n",
    "# Filter out rows with 'unknown' labels (if necessary)\n",
    "df = df[df['Label'] != 'unknown']\n",
    "\n",
    "# Save the DataFrame\n",
    "df.to_csv('preprocessed_data.csv')\n",
    "\n",
    "# Check the first few rows of the DataFrame to confirm\n",
    "print(df.head())\n",
    "print(df.columns)"
   ]
  },
  {
   "cell_type": "code",
   "execution_count": 6,
   "id": "70f5d588-d89f-4944-bfb4-ff04d7325ba0",
   "metadata": {},
   "outputs": [],
   "source": [
    "# Save the DataFrame\n",
    "df.to_csv('preprocessed_data.csv')"
   ]
  },
  {
   "cell_type": "code",
   "execution_count": null,
   "id": "f30a3d1e-18fb-4004-ad1d-db7590d219e2",
   "metadata": {},
   "outputs": [],
   "source": []
  }
 ],
 "metadata": {
  "kernelspec": {
   "display_name": "Python 3 (ipykernel)",
   "language": "python",
   "name": "python3"
  },
  "language_info": {
   "codemirror_mode": {
    "name": "ipython",
    "version": 3
   },
   "file_extension": ".py",
   "mimetype": "text/x-python",
   "name": "python",
   "nbconvert_exporter": "python",
   "pygments_lexer": "ipython3",
   "version": "3.11.7"
  }
 },
 "nbformat": 4,
 "nbformat_minor": 5
}
